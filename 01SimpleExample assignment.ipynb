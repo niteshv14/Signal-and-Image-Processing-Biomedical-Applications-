{
 "cells": [
  {
   "cell_type": "markdown",
   "metadata": {},
   "source": [
    "# Introduction\n",
    "--------------\n",
    "\n",
    "This Notebook is my first work on jupyter notebook.\n"
   ]
  },
  {
   "cell_type": "code",
   "execution_count": 5,
   "metadata": {},
   "outputs": [
    {
     "name": "stdout",
     "output_type": "stream",
     "text": [
      "\n",
      " THIS IS MY FAVOURITE SUBJECT! Python is interesting! L Curiel is teaching me Signal Processing in Biomedical Applications\n",
      "2\n"
     ]
    }
   ],
   "source": [
    "#This is my first assignment question\n",
    "\n",
    "txt=\"Python is interesting!\"\n",
    "txt2=\" L Curiel is teaching me Signal Processing in Biomedical Applications\"\n",
    "print('\\n THIS IS MY FAVOURITE SUBJECT! '+txt+txt2)\n",
    "list1=[2,2,3]\n",
    "print(list1[1])\n"
   ]
  },
  {
   "cell_type": "markdown",
   "metadata": {},
   "source": [
    "I just ran my first Python code on a notebook!\n",
    "My name is Venkat Sai Manoj\n",
    "\n"
   ]
  }
 ],
 "metadata": {
  "anaconda-cloud": {},
  "kernelspec": {
   "display_name": "Python 2",
   "language": "python",
   "name": "python2"
  },
  "language_info": {
   "codemirror_mode": {
    "name": "ipython",
    "version": 2
   },
   "file_extension": ".py",
   "mimetype": "text/x-python",
   "name": "python",
   "nbconvert_exporter": "python",
   "pygments_lexer": "ipython2",
   "version": "2.7.13"
  }
 },
 "nbformat": 4,
 "nbformat_minor": 1
}
